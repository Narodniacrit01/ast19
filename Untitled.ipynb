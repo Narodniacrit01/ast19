{
 "cells": [
  {
   "cell_type": "code",
   "execution_count": null,
   "id": "c2c57f48-12fd-43e3-b95c-1ec9b0de2120",
   "metadata": {},
   "outputs": [],
   "source": [
    "import numpy as np\n",
    "import matplotlib.pyplot as plt"
   ]
  },
  {
   "cell_type": "code",
   "execution_count": null,
   "id": "71b3c778-da50-4016-b287-c3ef4343d6ea",
   "metadata": {},
   "outputs": [],
   "source": [
    "x = np.linspace(0, 1, 100)"
   ]
  },
  {
   "cell_type": "code",
   "execution_count": null,
   "id": "75f6050f-7ba5-43fb-a9a8-7b800a64f4a1",
   "metadata": {},
   "outputs": [],
   "source": [
    "def exp_function(x):\n",
    "    return np.exp(x)"
   ]
  },
  {
   "cell_type": "code",
   "execution_count": null,
   "id": "604bd2f8-613c-4e29-8688-5607f286d60a",
   "metadata": {},
   "outputs": [],
   "source": [
    "y = exp_function(x)"
   ]
  },
  {
   "cell_type": "code",
   "execution_count": null,
   "id": "dce1520a-6216-4acb-9cc4-67bd8336fdd9",
   "metadata": {},
   "outputs": [],
   "source": [
    "plt.figure(figsize=(10, 6))\n",
    "plt.plot(x, y, label='y = exp(x)', color='blue')\n",
    "plt.title('Exponential Function')\n",
    "plt.xlabel('Time [milliseconds]')\n",
    "plt.ylabel('Awesomeness')\n",
    "plt.legend()\n",
    "plt.grid(True)"
   ]
  },
  {
   "cell_type": "code",
   "execution_count": null,
   "id": "1125d74b-c0ca-4a49-8cbe-c25de2e7800a",
   "metadata": {},
   "outputs": [],
   "source": [
    "plt.savefig('exponential_plot.pdf')"
   ]
  },
  {
   "cell_type": "code",
   "execution_count": null,
   "id": "999d4c2f-4402-4492-8eff-d85acd727085",
   "metadata": {},
   "outputs": [],
   "source": [
    "plt.show()"
   ]
  }
 ],
 "metadata": {
  "kernelspec": {
   "display_name": "",
   "name": ""
  },
  "language_info": {
   "name": ""
  }
 },
 "nbformat": 4,
 "nbformat_minor": 5
}
